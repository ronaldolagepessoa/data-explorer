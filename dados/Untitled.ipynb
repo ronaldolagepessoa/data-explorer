{
 "cells": [
  {
   "cell_type": "code",
   "execution_count": 9,
   "metadata": {},
   "outputs": [],
   "source": [
    "import pandas as pd\n",
    "\n",
    "df = pd.read_csv('houses_to_rent_v2.csv')\n",
    "df.rename(columns={'city': 'cidade', 'rooms': 'quartos', 'bathroom': 'banheiros', \n",
    "                  'parking spaces': 'vagas', 'floor': 'andar', 'furniture': 'mobiliado', \n",
    "                  'hoa (R$)': 'condominio', 'rent amount (R$)': 'aluguel', \n",
    "                   'property tax (R$)': 'iptu', 'fire insurance (R$)': 'seguro_incendio', \n",
    "                   'total (R$)': 'total'}, inplace=True)\n",
    "df.animal.replace('acept', 'aceita', inplace=True)\n",
    "df.animal.replace('not acept', 'não aceita', inplace=True)\n",
    "df.mobiliado.replace('furnished', 'sim', inplace=True)\n",
    "df.mobiliado.replace('not furnished', 'não', inplace=True)\n",
    "df.to_csv('alugueis_brasil2.csv', index=False)"
   ]
  }
 ],
 "metadata": {
  "kernelspec": {
   "display_name": "Python 3",
   "language": "python",
   "name": "python3"
  },
  "language_info": {
   "codemirror_mode": {
    "name": "ipython",
    "version": 3
   },
   "file_extension": ".py",
   "mimetype": "text/x-python",
   "name": "python",
   "nbconvert_exporter": "python",
   "pygments_lexer": "ipython3",
   "version": "3.8.5"
  }
 },
 "nbformat": 4,
 "nbformat_minor": 4
}
